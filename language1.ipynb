{
 "cells": [
  {
   "cell_type": "code",
   "execution_count": 2,
   "id": "70c27b0c-8e67-42ca-b64f-ce43a85afbe2",
   "metadata": {},
   "outputs": [],
   "source": [
    "import pandas as pd"
   ]
  },
  {
   "cell_type": "markdown",
   "id": "365f2db9-7849-4c11-966a-a5e22a2543d3",
   "metadata": {},
   "source": [
    "language 1 = English\n",
    "\n",
    "\n",
    "language 2 = French"
   ]
  },
  {
   "cell_type": "code",
   "execution_count": 4,
   "id": "41139836-0f01-4908-bf33-936561110a96",
   "metadata": {},
   "outputs": [
    {
     "data": {
      "text/html": [
       "<div>\n",
       "<style scoped>\n",
       "    .dataframe tbody tr th:only-of-type {\n",
       "        vertical-align: middle;\n",
       "    }\n",
       "\n",
       "    .dataframe tbody tr th {\n",
       "        vertical-align: top;\n",
       "    }\n",
       "\n",
       "    .dataframe thead th {\n",
       "        text-align: right;\n",
       "    }\n",
       "</style>\n",
       "<table border=\"1\" class=\"dataframe\">\n",
       "  <thead>\n",
       "    <tr style=\"text-align: right;\">\n",
       "      <th></th>\n",
       "      <th>population</th>\n",
       "      <th>location</th>\n",
       "    </tr>\n",
       "  </thead>\n",
       "  <tbody>\n",
       "    <tr>\n",
       "      <th>English</th>\n",
       "      <td>20</td>\n",
       "      <td>west</td>\n",
       "    </tr>\n",
       "    <tr>\n",
       "      <th>French</th>\n",
       "      <td>10</td>\n",
       "      <td>east</td>\n",
       "    </tr>\n",
       "  </tbody>\n",
       "</table>\n",
       "</div>"
      ],
      "text/plain": [
       "         population location\n",
       "English          20     west\n",
       "French           10     east"
      ]
     },
     "execution_count": 4,
     "metadata": {},
     "output_type": "execute_result"
    }
   ],
   "source": [
    "data ={'population':[20,10],\n",
    "      'location':['west', 'east']}\n",
    "language_df = pd.DataFrame(data, index=['English', 'French'])\n",
    "language_df "
   ]
  },
  {
   "cell_type": "markdown",
   "id": "76807091-4454-4ace-9383-04967bc9774b",
   "metadata": {},
   "source": [
    "The following is for English language only. And should work in `english` branch only"
   ]
  },
  {
   "cell_type": "code",
   "execution_count": null,
   "id": "6ac66c26-a27f-42e4-9a8e-8229f4b15453",
   "metadata": {},
   "outputs": [],
   "source": []
  }
 ],
 "metadata": {
  "kernelspec": {
   "display_name": "Python 3 (ipykernel)",
   "language": "python",
   "name": "python3"
  },
  "language_info": {
   "codemirror_mode": {
    "name": "ipython",
    "version": 3
   },
   "file_extension": ".py",
   "mimetype": "text/x-python",
   "name": "python",
   "nbconvert_exporter": "python",
   "pygments_lexer": "ipython3",
   "version": "3.12.8"
  }
 },
 "nbformat": 4,
 "nbformat_minor": 5
}
